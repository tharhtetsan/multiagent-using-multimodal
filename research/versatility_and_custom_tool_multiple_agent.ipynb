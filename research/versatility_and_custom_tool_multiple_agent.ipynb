{
 "cells": [
  {
   "cell_type": "markdown",
   "metadata": {},
   "source": [
    "### versatility and Custom Tool multiple_agent"
   ]
  },
  {
   "cell_type": "code",
   "execution_count": 1,
   "metadata": {},
   "outputs": [],
   "source": [
    "from crewai import Agent, Task, Crew,LLM\n",
    "ollama_llm = LLM(\n",
    "            model=\"ollama/llama3.2:latest\",\n",
    "            api_base=\"http://localhost:11434\"\n",
    "            )"
   ]
  },
  {
   "cell_type": "code",
   "execution_count": 2,
   "metadata": {},
   "outputs": [],
   "source": [
    "sales_rep_agent = Agent(\n",
    "    role=\"Sales Representative\",\n",
    "    goal=\"Identify high-value leads that match \"\n",
    "         \"our ideal customer profile\",\n",
    "    backstory=(\n",
    "        \"As a part of the dynamic sales team at CrewAI, \"\n",
    "        \"your mission is to scour \"\n",
    "        \"the digital landscape for potential leads. \"\n",
    "        \"Armed with cutting-edge tools \"\n",
    "        \"and a strategic mindset, you analyze data, \"\n",
    "        \"trends, and interactions to \"\n",
    "        \"unearth opportunities that others might overlook. \"\n",
    "        \"Your work is crucial in paving the way \"\n",
    "        \"for meaningful engagements and driving the company's growth.\"\n",
    "    ),\n",
    "    allow_delegation=False,\n",
    "    llm =  ollama_llm,\n",
    "    verbose=True\n",
    ")"
   ]
  },
  {
   "cell_type": "code",
   "execution_count": 3,
   "metadata": {},
   "outputs": [],
   "source": [
    "lead_sales_rep_agent = Agent(\n",
    "    role=\"Lead Sales Representative\",\n",
    "    goal=\"Nurture leads with personalized, compelling communications\",\n",
    "    backstory=(\n",
    "        \"Within the vibrant ecosystem of CrewAI's sales department, \"\n",
    "        \"you stand out as the bridge between potential clients \"\n",
    "        \"and the solutions they need.\"\n",
    "        \"By creating engaging, personalized messages, \"\n",
    "        \"you not only inform leads about our offerings \"\n",
    "        \"but also make them feel seen and heard.\"\n",
    "        \"Your role is pivotal in converting interest \"\n",
    "        \"into action, guiding leads through the journey \"\n",
    "        \"from curiosity to commitment.\"\n",
    "    ),\n",
    "    allow_delegation=False,\n",
    "    llm =  ollama_llm,\n",
    "    verbose=True\n",
    ")"
   ]
  },
  {
   "cell_type": "code",
   "execution_count": 4,
   "metadata": {},
   "outputs": [
    {
     "name": "stderr",
     "output_type": "stream",
     "text": [
      "/Users/tharhtet/.local/share/virtualenvs/multiagent-using-multimodal-mViAUUHF/lib/python3.10/site-packages/pydantic/_internal/_config.py:295: PydanticDeprecatedSince20: Support for class-based `config` is deprecated, use ConfigDict instead. Deprecated in Pydantic V2.0 to be removed in V3.0. See Pydantic V2 Migration Guide at https://errors.pydantic.dev/2.10/migration/\n",
      "  warnings.warn(DEPRECATION_MESSAGE, DeprecationWarning)\n",
      "/Users/tharhtet/.local/share/virtualenvs/multiagent-using-multimodal-mViAUUHF/lib/python3.10/site-packages/pydantic/_internal/_generate_schema.py:502: UserWarning: <built-in function callable> is not a Python type (it may be an instance of an object), Pydantic will allow any object with no validation since we cannot even enforce that the input is an instance of the given type. To get rid of this error wrap the type with `pydantic.SkipValidation`.\n",
      "  warn(\n",
      "/Users/tharhtet/.local/share/virtualenvs/multiagent-using-multimodal-mViAUUHF/lib/python3.10/site-packages/crewai_tools/tools/scrapegraph_scrape_tool/scrapegraph_scrape_tool.py:34: PydanticDeprecatedSince20: Pydantic V1 style `@validator` validators are deprecated. You should migrate to Pydantic V2 style `@field_validator` validators, see the migration guide for more details. Deprecated in Pydantic V2.0 to be removed in V3.0. See Pydantic V2 Migration Guide at https://errors.pydantic.dev/2.10/migration/\n",
      "  @validator(\"website_url\")\n",
      "/Users/tharhtet/.local/share/virtualenvs/multiagent-using-multimodal-mViAUUHF/lib/python3.10/site-packages/crewai_tools/tools/selenium_scraping_tool/selenium_scraping_tool.py:26: PydanticDeprecatedSince20: Pydantic V1 style `@validator` validators are deprecated. You should migrate to Pydantic V2 style `@field_validator` validators, see the migration guide for more details. Deprecated in Pydantic V2.0 to be removed in V3.0. See Pydantic V2 Migration Guide at https://errors.pydantic.dev/2.10/migration/\n",
      "  @validator(\"website_url\")\n",
      "/Users/tharhtet/.local/share/virtualenvs/multiagent-using-multimodal-mViAUUHF/lib/python3.10/site-packages/crewai_tools/tools/vision_tool/vision_tool.py:15: PydanticDeprecatedSince20: Pydantic V1 style `@validator` validators are deprecated. You should migrate to Pydantic V2 style `@field_validator` validators, see the migration guide for more details. Deprecated in Pydantic V2.0 to be removed in V3.0. See Pydantic V2 Migration Guide at https://errors.pydantic.dev/2.10/migration/\n",
      "  @validator(\"image_path_url\")\n"
     ]
    }
   ],
   "source": [
    "from crewai_tools import DirectoryReadTool, \\\n",
    "                         FileReadTool, \\\n",
    "                         SerperDevTool"
   ]
  },
  {
   "cell_type": "code",
   "execution_count": 5,
   "metadata": {},
   "outputs": [],
   "source": [
    "directory_read_tool = DirectoryReadTool(directory='./dir_read')\n",
    "file_read_tool = FileReadTool()\n",
    "search_tool = SerperDevTool()"
   ]
  },
  {
   "cell_type": "markdown",
   "metadata": {},
   "source": [
    "## Custom Tool\n"
   ]
  },
  {
   "cell_type": "code",
   "execution_count": 12,
   "metadata": {},
   "outputs": [],
   "source": [
    "from crewai.tools import BaseTool\n",
    "from typing import Type\n",
    "from pydantic import BaseModel, Field\n",
    "\n",
    "class MyToolInput(BaseModel):\n",
    "    \"\"\"Input schema for MyCustomTool.\"\"\"\n",
    "    argument: str = Field(..., description=\"Description of the argument.\")\n",
    "\n",
    "class MyCustomTool(BaseTool):\n",
    "    name: str = \"Name of my tool\"\n",
    "    description: str = \"What this tool does. It's vital for effective utilization.\"\n",
    "    args_schema: Type[BaseModel] = MyToolInput\n",
    "\n",
    "    def _run(self, argument: str) -> str:\n",
    "        # Your tool's logic here\n",
    "        return \"Tool's result\""
   ]
  },
  {
   "cell_type": "code",
   "execution_count": 15,
   "metadata": {},
   "outputs": [
    {
     "name": "stdout",
     "output_type": "stream",
     "text": [
      "Using Tool: Name of my tool\n"
     ]
    },
    {
     "data": {
      "text/plain": [
       "\"Tool's result\""
      ]
     },
     "execution_count": 15,
     "metadata": {},
     "output_type": "execute_result"
    }
   ],
   "source": [
    "my_custom_tool = MyCustomTool()\n",
    "my_custom_tool.run(\"hey\")"
   ]
  },
  {
   "cell_type": "code",
   "execution_count": null,
   "metadata": {},
   "outputs": [],
   "source": []
  }
 ],
 "metadata": {
  "kernelspec": {
   "display_name": "multiagent-using-multimodal-mViAUUHF",
   "language": "python",
   "name": "python3"
  },
  "language_info": {
   "codemirror_mode": {
    "name": "ipython",
    "version": 3
   },
   "file_extension": ".py",
   "mimetype": "text/x-python",
   "name": "python",
   "nbconvert_exporter": "python",
   "pygments_lexer": "ipython3",
   "version": "3.10.14"
  }
 },
 "nbformat": 4,
 "nbformat_minor": 2
}
