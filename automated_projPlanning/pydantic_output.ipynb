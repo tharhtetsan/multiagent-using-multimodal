{
 "cells": [
  {
   "cell_type": "code",
   "execution_count": 8,
   "metadata": {},
   "outputs": [],
   "source": [
    "import json\n",
    "\n",
    "from crewai import Agent, Crew, Process, Task, LLM\n",
    "from pydantic import BaseModel"
   ]
  },
  {
   "cell_type": "code",
   "execution_count": 9,
   "metadata": {},
   "outputs": [],
   "source": [
    "ollama_llm = LLM(\n",
    "            model=\"ollama/llama3.2:latest\",\n",
    "            api_base=\"http://localhost:11434\"\n",
    "            )"
   ]
  },
  {
   "cell_type": "code",
   "execution_count": 3,
   "metadata": {},
   "outputs": [],
   "source": [
    "class Blog(BaseModel):\n",
    "    title: str\n",
    "    content: str"
   ]
  },
  {
   "cell_type": "code",
   "execution_count": 10,
   "metadata": {},
   "outputs": [],
   "source": [
    "blog_agent = Agent(\n",
    "    role=\"Blog Content Generator Agent\",\n",
    "    goal=\"Generate a blog title and content\",\n",
    "    backstory=\"\"\"You are an expert content creator, skilled in crafting engaging and informative blog posts.\"\"\",\n",
    "    verbose=False,\n",
    "    allow_delegation=False,\n",
    "    llm=ollama_llm\n",
    ")\n",
    "\n",
    "task1 = Task(\n",
    "    description=\"\"\"Create a blog title and content on a given topic. Make sure the content is under 200 words.\"\"\",\n",
    "    expected_output=\"A compelling blog title and well-written content.\",\n",
    "    agent=blog_agent,\n",
    "    output_pydantic=Blog,\n",
    ")\n"
   ]
  },
  {
   "cell_type": "code",
   "execution_count": 11,
   "metadata": {},
   "outputs": [
    {
     "name": "stderr",
     "output_type": "stream",
     "text": [
      "WARNING:opentelemetry.trace:Overriding of current TracerProvider is not allowed\n"
     ]
    }
   ],
   "source": [
    "# Instantiate your crew with a sequential process\n",
    "crew = Crew(\n",
    "    agents=[blog_agent],\n",
    "    tasks=[task1],\n",
    "    verbose=True,\n",
    "    process=Process.sequential,\n",
    ")"
   ]
  },
  {
   "cell_type": "code",
   "execution_count": 12,
   "metadata": {},
   "outputs": [
    {
     "name": "stdout",
     "output_type": "stream",
     "text": [
      "\u001b[1m\u001b[95m# Agent:\u001b[00m \u001b[1m\u001b[92mBlog Content Generator Agent\u001b[00m\n",
      "\u001b[95m## Task:\u001b[00m \u001b[92mCreate a blog title and content on a given topic. Make sure the content is under 200 words.\u001b[00m\n",
      "\n",
      "\n",
      "\u001b[1m\u001b[95m# Agent:\u001b[00m \u001b[1m\u001b[92mBlog Content Generator Agent\u001b[00m\n",
      "\u001b[95m## Final Answer:\u001b[00m \u001b[92m\n",
      "{\"title\": \"Unlocking the Power of AI-Powered Content Generation\", \"content\": \"In today\"s digital landscape, content creation has become a critical component of any business\"s success. With the rise of artificial intelligence (AI), content generation has taken a significant leap forward. This blog post will explore the benefits and applications of AI-powered content generation, as well as provide tips and strategies for harnessing its power to take your content to the next level.\"}\u001b[00m\n",
      "\n",
      "\n"
     ]
    }
   ],
   "source": [
    "result = crew.kickoff()\n",
    "\n"
   ]
  },
  {
   "cell_type": "code",
   "execution_count": 13,
   "metadata": {},
   "outputs": [
    {
     "name": "stdout",
     "output_type": "stream",
     "text": [
      "Accessing Properties - Option 1\n",
      "Title: Unlocking the Power of AI-Powered Content Generation\n",
      "Content: In today\\u2019s digital landscape, content creation has become a critical component of any business\\u2019s success. With the rise of artificial intelligence (AI), content generation has taken a significant leap forward. This blog post will explore the benefits and applications of AI-powered content generation, as well as provide tips and strategies for harnessing its power to take your content to the next level.\n"
     ]
    }
   ],
   "source": [
    "# Option 1: Accessing Properties Using Dictionary-Style Indexing\n",
    "print(\"Accessing Properties - Option 1\")\n",
    "title = result[\"title\"]\n",
    "content = result[\"content\"]\n",
    "print(\"Title:\", title)\n",
    "print(\"Content:\", content)"
   ]
  },
  {
   "cell_type": "code",
   "execution_count": 14,
   "metadata": {},
   "outputs": [
    {
     "name": "stdout",
     "output_type": "stream",
     "text": [
      "Accessing Properties - Option 2\n",
      "Title: Unlocking the Power of AI-Powered Content Generation\n",
      "Content: In today\\u2019s digital landscape, content creation has become a critical component of any business\\u2019s success. With the rise of artificial intelligence (AI), content generation has taken a significant leap forward. This blog post will explore the benefits and applications of AI-powered content generation, as well as provide tips and strategies for harnessing its power to take your content to the next level.\n"
     ]
    }
   ],
   "source": [
    "# Option 2: Accessing Properties Directly from the Pydantic Model\n",
    "print(\"Accessing Properties - Option 2\")\n",
    "title = result.pydantic.title\n",
    "content = result.pydantic.content\n",
    "print(\"Title:\", title)\n",
    "print(\"Content:\", content)"
   ]
  },
  {
   "cell_type": "code",
   "execution_count": 15,
   "metadata": {},
   "outputs": [
    {
     "name": "stdout",
     "output_type": "stream",
     "text": [
      "Accessing Properties - Option 3\n",
      "Title: Unlocking the Power of AI-Powered Content Generation\n",
      "Content: In today\\u2019s digital landscape, content creation has become a critical component of any business\\u2019s success. With the rise of artificial intelligence (AI), content generation has taken a significant leap forward. This blog post will explore the benefits and applications of AI-powered content generation, as well as provide tips and strategies for harnessing its power to take your content to the next level.\n"
     ]
    }
   ],
   "source": [
    "# Option 3: Accessing Properties Using the to_dict() Method\n",
    "print(\"Accessing Properties - Option 3\")\n",
    "output_dict = result.to_dict()\n",
    "title = output_dict[\"title\"]\n",
    "content = output_dict[\"content\"]\n",
    "print(\"Title:\", title)\n",
    "print(\"Content:\", content)"
   ]
  },
  {
   "cell_type": "code",
   "execution_count": 16,
   "metadata": {},
   "outputs": [
    {
     "name": "stdout",
     "output_type": "stream",
     "text": [
      "Accessing Properties - Option 5\n",
      "Blog: title='Unlocking the Power of AI-Powered Content Generation' content='In today\\\\u2019s digital landscape, content creation has become a critical component of any business\\\\u2019s success. With the rise of artificial intelligence (AI), content generation has taken a significant leap forward. This blog post will explore the benefits and applications of AI-powered content generation, as well as provide tips and strategies for harnessing its power to take your content to the next level.'\n"
     ]
    }
   ],
   "source": [
    "# Option 4: Printing the Entire Blog Object\n",
    "print(\"Accessing Properties - Option 5\")\n",
    "print(\"Blog:\", result)"
   ]
  },
  {
   "cell_type": "code",
   "execution_count": null,
   "metadata": {},
   "outputs": [],
   "source": []
  }
 ],
 "metadata": {
  "kernelspec": {
   "display_name": "multiagent-using-multimodal-mViAUUHF",
   "language": "python",
   "name": "python3"
  },
  "language_info": {
   "codemirror_mode": {
    "name": "ipython",
    "version": 3
   },
   "file_extension": ".py",
   "mimetype": "text/x-python",
   "name": "python",
   "nbconvert_exporter": "python",
   "pygments_lexer": "ipython3",
   "version": "3.10.14"
  }
 },
 "nbformat": 4,
 "nbformat_minor": 2
}
