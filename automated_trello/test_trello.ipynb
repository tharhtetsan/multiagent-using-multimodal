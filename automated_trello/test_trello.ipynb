{
 "cells": [
  {
   "cell_type": "code",
   "execution_count": 37,
   "metadata": {},
   "outputs": [],
   "source": [
    "# This code sample uses the 'requests' library:\n",
    "# http://docs.python-requests.org\n",
    "import requests\n",
    "import json\n",
    "\n",
    "url = \"https://api.trello.com/1/cards\"\n",
    "\n"
   ]
  },
  {
   "cell_type": "code",
   "execution_count": 38,
   "metadata": {},
   "outputs": [],
   "source": [
    "import os\n",
    "from dotenv import load_dotenv\n",
    "load_dotenv()\n",
    "\n",
    "api_key: str = os.environ['TRELLO_API_KEY']\n",
    "api_token: str = os.environ['TRELLO_API_TOKEN']\n"
   ]
  },
  {
   "cell_type": "code",
   "execution_count": 39,
   "metadata": {},
   "outputs": [
    {
     "data": {
      "text/plain": [
       "'67c6a827016a2f43f888be8d'"
      ]
     },
     "execution_count": 39,
     "metadata": {},
     "output_type": "execute_result"
    }
   ],
   "source": [
    "id = os.getenv(\"TRELLO_BOARD_ID\")\n",
    "id"
   ]
  },
  {
   "cell_type": "code",
   "execution_count": 40,
   "metadata": {},
   "outputs": [
    {
     "data": {
      "text/plain": [
       "<Response [200]>"
      ]
     },
     "execution_count": 40,
     "metadata": {},
     "output_type": "execute_result"
    }
   ],
   "source": [
    "url = \"https://api.trello.com/1/boards/\"+id\n",
    "\n",
    "headers = {\n",
    "  \"Accept\": \"application/json\"\n",
    "}\n",
    "\n",
    "query = {\n",
    "  'key':  api_key,\n",
    "  'token': api_token\n",
    "}\n",
    "\n",
    "response = requests.request(\n",
    "   \"GET\",\n",
    "   url,\n",
    "   headers=headers,\n",
    "   params=query\n",
    ")\n",
    "\n",
    "response"
   ]
  },
  {
   "cell_type": "code",
   "execution_count": 41,
   "metadata": {},
   "outputs": [
    {
     "name": "stdout",
     "output_type": "stream",
     "text": [
      "{\n",
      "    \"closed\": false,\n",
      "    \"desc\": \"\",\n",
      "    \"descData\": null,\n",
      "    \"id\": \"67c6a827016a2f43f888be8d\",\n",
      "    \"idEnterprise\": null,\n",
      "    \"idOrganization\": \"67c6a825b8d28b41b2a2e8b4\",\n",
      "    \"labelNames\": {\n",
      "        \"black\": \"\",\n",
      "        \"black_dark\": \"\",\n",
      "        \"black_light\": \"\",\n",
      "        \"blue\": \"\",\n",
      "        \"blue_dark\": \"\",\n",
      "        \"blue_light\": \"\",\n",
      "        \"green\": \"\",\n",
      "        \"green_dark\": \"\",\n",
      "        \"green_light\": \"\",\n",
      "        \"lime\": \"\",\n",
      "        \"lime_dark\": \"\",\n",
      "        \"lime_light\": \"\",\n",
      "        \"orange\": \"\",\n",
      "        \"orange_dark\": \"\",\n",
      "        \"orange_light\": \"\",\n",
      "        \"pink\": \"\",\n",
      "        \"pink_dark\": \"\",\n",
      "        \"pink_light\": \"\",\n",
      "        \"purple\": \"\",\n",
      "        \"purple_dark\": \"\",\n",
      "        \"purple_light\": \"\",\n",
      "        \"red\": \"\",\n",
      "        \"red_dark\": \"\",\n",
      "        \"red_light\": \"\",\n",
      "        \"sky\": \"\",\n",
      "        \"sky_dark\": \"\",\n",
      "        \"sky_light\": \"\",\n",
      "        \"yellow\": \"\",\n",
      "        \"yellow_dark\": \"\",\n",
      "        \"yellow_light\": \"\"\n",
      "    },\n",
      "    \"name\": \"cewai_test\",\n",
      "    \"pinned\": false,\n",
      "    \"prefs\": {\n",
      "        \"background\": \"pink\",\n",
      "        \"backgroundBottomColor\": \"#CD5A91\",\n",
      "        \"backgroundBrightness\": \"dark\",\n",
      "        \"backgroundColor\": \"#CD5A91\",\n",
      "        \"backgroundDarkColor\": null,\n",
      "        \"backgroundDarkImage\": null,\n",
      "        \"backgroundImage\": null,\n",
      "        \"backgroundImageScaled\": null,\n",
      "        \"backgroundTile\": false,\n",
      "        \"backgroundTopColor\": \"#CD5A91\",\n",
      "        \"calendarFeedEnabled\": false,\n",
      "        \"canBeEnterprise\": false,\n",
      "        \"canBeOrg\": false,\n",
      "        \"canBePrivate\": false,\n",
      "        \"canBePublic\": false,\n",
      "        \"canInvite\": true,\n",
      "        \"cardAging\": \"regular\",\n",
      "        \"cardCounts\": false,\n",
      "        \"cardCovers\": true,\n",
      "        \"comments\": \"members\",\n",
      "        \"hiddenPluginBoardButtons\": [],\n",
      "        \"hideVotes\": false,\n",
      "        \"invitations\": \"members\",\n",
      "        \"isTemplate\": false,\n",
      "        \"permissionLevel\": \"org\",\n",
      "        \"selfJoin\": true,\n",
      "        \"sharedSourceUrl\": null,\n",
      "        \"showCompleteStatus\": true,\n",
      "        \"switcherViews\": [\n",
      "            {\n",
      "                \"enabled\": true,\n",
      "                \"viewType\": \"Board\"\n",
      "            },\n",
      "            {\n",
      "                \"enabled\": true,\n",
      "                \"viewType\": \"Table\"\n",
      "            },\n",
      "            {\n",
      "                \"enabled\": false,\n",
      "                \"viewType\": \"Calendar\"\n",
      "            },\n",
      "            {\n",
      "                \"enabled\": false,\n",
      "                \"viewType\": \"Dashboard\"\n",
      "            },\n",
      "            {\n",
      "                \"enabled\": false,\n",
      "                \"viewType\": \"Timeline\"\n",
      "            },\n",
      "            {\n",
      "                \"enabled\": false,\n",
      "                \"viewType\": \"Map\"\n",
      "            }\n",
      "        ],\n",
      "        \"voting\": \"disabled\"\n",
      "    },\n",
      "    \"shortUrl\": \"https://trello.com/b/ZHlGaBOl\",\n",
      "    \"url\": \"https://trello.com/b/ZHlGaBOl/cewaitest\"\n",
      "}\n"
     ]
    }
   ],
   "source": [
    "print(json.dumps(json.loads(response.text), sort_keys=True, indent=4, separators=(\",\", \": \")))"
   ]
  },
  {
   "cell_type": "code",
   "execution_count": null,
   "metadata": {},
   "outputs": [],
   "source": []
  },
  {
   "cell_type": "code",
   "execution_count": 42,
   "metadata": {},
   "outputs": [
    {
     "name": "stdout",
     "output_type": "stream",
     "text": [
      "Getting data from Trello board \n",
      "Here is the board data :  [{'id': '67c6a828067238d98405ff78', 'name': 'Analysis of results from CSV', 'idList': '67c6a828d79ba4b87d5bc927', 'due': '2025-03-04T09:42:00.000Z', 'dateLastActivity': '2025-03-04T09:42:33.228Z', 'labels': [{'id': '67c6a827016a2f43f888bed0', 'idBoard': '67c6a827016a2f43f888be8d', 'idOrganization': '67c6a825b8d28b41b2a2e8b4', 'name': '', 'nodeId': 'ari:cloud:trello::label/workspace/67c6a825b8d28b41b2a2e8b4/67c6a827016a2f43f888bed0', 'color': 'orange', 'uses': 1}], 'attachments': [], 'actions': []}, {'id': '67c6a828c1b8984ec19a6227', 'name': 'Kickoff meeting', 'idList': '67c6a828d79ba4b87d5bc927', 'due': '2025-03-07T09:41:00.000Z', 'dateLastActivity': '2025-03-04T09:41:30.966Z', 'labels': [], 'attachments': [], 'actions': []}, {'id': '67c6b6a9e0921b98fc547d52', 'name': 'Approve the planning', 'idList': '67c6a828d79ba4b87d5bc927', 'due': '2025-03-18T09:41:00.000Z', 'dateLastActivity': '2025-03-04T09:41:39.228Z', 'labels': [], 'attachments': [], 'actions': []}, {'id': '67c6c18f352a554cd04b47f3', 'name': '', 'idList': '67c6a828d79ba4b87d5bc927', 'due': None, 'dateLastActivity': '2025-03-04T09:02:07.245Z', 'labels': [], 'attachments': [], 'actions': []}, {'id': '67c6b6bf1166eb780112cd15', 'name': 'Scaffold of the initial app UI', 'idList': '67c6a828244db7a955f0092e', 'due': None, 'dateLastActivity': '2025-03-04T08:15:59.522Z', 'labels': [], 'attachments': [], 'actions': []}, {'id': '67c6b6ca52d1a679dc7c873a', 'name': 'Planning of the project.', 'idList': '67c6a8288f80aa61287e8ea2', 'due': '2025-03-03T09:42:00.000Z', 'dateLastActivity': '2025-03-04T09:42:52.063Z', 'labels': [], 'attachments': [], 'actions': []}]\n",
      "#############\n"
     ]
    }
   ],
   "source": [
    "url = f\"{os.getenv('DLAI_TRELLO_BASE_URL', 'https://api.trello.com')}/1/boards/{id}/cards\"\n",
    "\n",
    "query = {\n",
    "    'key': api_key,\n",
    "    'token': api_token,\n",
    "    'fields': 'name,idList,due,dateLastActivity,labels',\n",
    "    'attachments': 'true',\n",
    "    'actions': 'commentCard'\n",
    "}\n",
    "\n",
    "response = requests.get(url, params=query)\n",
    "print(\"Getting data from Trello board \")\n",
    "\n",
    "print(\"Here is the board data : \",response.json())\n",
    "print(\"#############\")"
   ]
  },
  {
   "cell_type": "code",
   "execution_count": 43,
   "metadata": {},
   "outputs": [
    {
     "data": {
      "text/plain": [
       "'67c6a827016a2f43f888be8d'"
      ]
     },
     "execution_count": 43,
     "metadata": {},
     "output_type": "execute_result"
    }
   ],
   "source": [
    "id"
   ]
  },
  {
   "cell_type": "code",
   "execution_count": 44,
   "metadata": {},
   "outputs": [],
   "source": [
    "card_id =\"67c6a828067238d98405ff78\""
   ]
  },
  {
   "cell_type": "code",
   "execution_count": 45,
   "metadata": {},
   "outputs": [
    {
     "name": "stdout",
     "output_type": "stream",
     "text": [
      "Getting data from Trello Cards \n",
      "Here is the card data :  {'id': '67c6a828067238d98405ff78', 'badges': {'attachments': 0, 'fogbugz': '', 'checkItems': 0, 'checkItemsChecked': 0, 'checkItemsEarliestDue': None, 'comments': 0, 'description': False, 'due': '2025-03-04T09:42:00.000Z', 'dueComplete': False, 'lastUpdatedByAi': False, 'start': None, 'externalSource': None, 'attachmentsByType': {'trello': {'board': 0, 'card': 0}}, 'location': False, 'votes': 0, 'viewingMemberVoted': False, 'subscribed': False}, 'checkItemStates': [], 'closed': False, 'dueComplete': False, 'dateLastActivity': '2025-03-04T09:42:33.228Z', 'desc': '', 'descData': {'emoji': {}}, 'due': '2025-03-04T09:42:00.000Z', 'dueReminder': 1440, 'email': None, 'idBoard': '67c6a827016a2f43f888be8d', 'idChecklists': [], 'idList': '67c6a828d79ba4b87d5bc927', 'idMembers': [], 'idMembersVoted': [], 'idShort': 1, 'idAttachmentCover': None, 'labels': [{'id': '67c6a827016a2f43f888bed0', 'idBoard': '67c6a827016a2f43f888be8d', 'idOrganization': '67c6a825b8d28b41b2a2e8b4', 'name': '', 'nodeId': 'ari:cloud:trello::label/workspace/67c6a825b8d28b41b2a2e8b4/67c6a827016a2f43f888bed0', 'color': 'orange', 'uses': 1}], 'idLabels': ['67c6a827016a2f43f888bed0'], 'manualCoverAttachment': False, 'name': 'Analysis of results from CSV', 'nodeId': 'ari:cloud:trello::card/workspace/67c6a825b8d28b41b2a2e8b4/67c6a828067238d98405ff78', 'pinned': False, 'pos': 1, 'shortLink': 'YPXvRi2h', 'shortUrl': 'https://trello.com/c/YPXvRi2h', 'start': None, 'subscribed': False, 'url': 'https://trello.com/c/YPXvRi2h/1-analysis-of-results-from-csv', 'cover': {'idAttachment': None, 'color': None, 'idUploadedBackground': None, 'size': 'normal', 'brightness': 'dark', 'idPlugin': None}, 'isTemplate': False, 'cardRole': None, 'mirrorSourceId': None}\n",
      "#############\n"
     ]
    }
   ],
   "source": [
    "url = f\"{os.getenv('DLAI_TRELLO_BASE_URL', 'https://api.trello.com')}/1/cards/{card_id}\"\n",
    "query = {\n",
    "    'key': api_key,\n",
    "    'token': api_token\n",
    "}\n",
    "response = requests.get(url, params=query)\n",
    "print(\"Getting data from Trello Cards \")\n",
    "\n",
    "print(\"Here is the card data : \",response.json())\n",
    "print(\"#############\")"
   ]
  },
  {
   "cell_type": "code",
   "execution_count": null,
   "metadata": {},
   "outputs": [],
   "source": []
  },
  {
   "cell_type": "code",
   "execution_count": null,
   "metadata": {},
   "outputs": [],
   "source": []
  }
 ],
 "metadata": {
  "kernelspec": {
   "display_name": "multiagent-using-multimodal-mViAUUHF",
   "language": "python",
   "name": "python3"
  },
  "language_info": {
   "codemirror_mode": {
    "name": "ipython",
    "version": 3
   },
   "file_extension": ".py",
   "mimetype": "text/x-python",
   "name": "python",
   "nbconvert_exporter": "python",
   "pygments_lexer": "ipython3",
   "version": "3.10.14"
  }
 },
 "nbformat": 4,
 "nbformat_minor": 2
}
